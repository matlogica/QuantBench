{
 "cells": [
  {
   "cell_type": "markdown",
   "id": "38c718df",
   "metadata": {},
   "source": [
    "[![Binder](https://mybinder.org/badge_logo.svg)](https://mybinder.org/v2/gh/matlogica/QuantBench/main?filepath=2AssetAutoCallable/results/results_viewer.ipynb)\n",
    "\n",
    "# Phoenix Autocallable Note - Accuracy Analysis\n",
    "\n",
    "This notebook analyzes the effects of Monte Carlo path count and smoothing parameter on the accuracy of pricing and risk sensitivities for the Phoenix Autocallable Note. \n",
    "\n",
    "We'll compare:\n",
    "1. **Base implementation** (standard bump-and-revalue)\n",
    "2. **Smoothed implementation** (using smoothed digital functions)\n",
    "3. **AADC implementation** (Algorithmic Adjoint Differentiation for C++)\n",
    "\n",
    "We'll examine how these approaches converge as we increase the number of Monte Carlo paths, and analyze the computational efficiency trade-offs."
   ]
  },
  {
   "cell_type": "code",
   "execution_count": 3,
   "id": "11193f16",
   "metadata": {
    "lines_to_next_cell": 1
   },
   "outputs": [
    {
     "name": "stdout",
     "output_type": "stream",
     "text": [
      "Requirement already satisfied: pandas in /home/dimach/venv/dev/lib/python3.11/site-packages (2.2.2)\n",
      "Requirement already satisfied: numpy in /home/dimach/venv/dev/lib/python3.11/site-packages (1.26.4)\n",
      "Requirement already satisfied: seaborn in /home/dimach/venv/dev/lib/python3.11/site-packages (0.13.2)\n",
      "Requirement already satisfied: ipywidgets in /home/dimach/venv/dev/lib/python3.11/site-packages (8.1.3)\n",
      "Requirement already satisfied: python-dateutil>=2.8.2 in /home/dimach/venv/dev/lib/python3.11/site-packages (from pandas) (2.9.0.post0)\n",
      "Requirement already satisfied: pytz>=2020.1 in /home/dimach/venv/dev/lib/python3.11/site-packages (from pandas) (2024.1)\n",
      "Requirement already satisfied: tzdata>=2022.7 in /home/dimach/venv/dev/lib/python3.11/site-packages (from pandas) (2024.1)\n",
      "Requirement already satisfied: matplotlib!=3.6.1,>=3.4 in /home/dimach/venv/dev/lib/python3.11/site-packages (from seaborn) (3.8.4)\n",
      "Requirement already satisfied: comm>=0.1.3 in /home/dimach/venv/dev/lib/python3.11/site-packages (from ipywidgets) (0.2.2)\n",
      "Requirement already satisfied: ipython>=6.1.0 in /home/dimach/venv/dev/lib/python3.11/site-packages (from ipywidgets) (8.25.0)\n",
      "Requirement already satisfied: traitlets>=4.3.1 in /home/dimach/venv/dev/lib/python3.11/site-packages (from ipywidgets) (5.14.3)\n",
      "Requirement already satisfied: widgetsnbextension~=4.0.11 in /home/dimach/venv/dev/lib/python3.11/site-packages (from ipywidgets) (4.0.11)\n",
      "Requirement already satisfied: jupyterlab-widgets~=3.0.11 in /home/dimach/venv/dev/lib/python3.11/site-packages (from ipywidgets) (3.0.11)\n",
      "Requirement already satisfied: decorator in /home/dimach/venv/dev/lib/python3.11/site-packages (from ipython>=6.1.0->ipywidgets) (5.1.1)\n",
      "Requirement already satisfied: jedi>=0.16 in /home/dimach/venv/dev/lib/python3.11/site-packages (from ipython>=6.1.0->ipywidgets) (0.19.1)\n",
      "Requirement already satisfied: matplotlib-inline in /home/dimach/venv/dev/lib/python3.11/site-packages (from ipython>=6.1.0->ipywidgets) (0.1.7)\n",
      "Requirement already satisfied: prompt-toolkit<3.1.0,>=3.0.41 in /home/dimach/venv/dev/lib/python3.11/site-packages (from ipython>=6.1.0->ipywidgets) (3.0.47)\n",
      "Requirement already satisfied: pygments>=2.4.0 in /home/dimach/venv/dev/lib/python3.11/site-packages (from ipython>=6.1.0->ipywidgets) (2.18.0)\n",
      "Requirement already satisfied: stack-data in /home/dimach/venv/dev/lib/python3.11/site-packages (from ipython>=6.1.0->ipywidgets) (0.6.3)\n",
      "Requirement already satisfied: typing-extensions>=4.6 in /home/dimach/venv/dev/lib/python3.11/site-packages (from ipython>=6.1.0->ipywidgets) (4.10.0)\n",
      "Requirement already satisfied: pexpect>4.3 in /home/dimach/venv/dev/lib/python3.11/site-packages (from ipython>=6.1.0->ipywidgets) (4.9.0)\n",
      "Requirement already satisfied: contourpy>=1.0.1 in /home/dimach/venv/dev/lib/python3.11/site-packages (from matplotlib!=3.6.1,>=3.4->seaborn) (1.2.1)\n",
      "Requirement already satisfied: cycler>=0.10 in /home/dimach/venv/dev/lib/python3.11/site-packages (from matplotlib!=3.6.1,>=3.4->seaborn) (0.12.1)\n",
      "Requirement already satisfied: fonttools>=4.22.0 in /home/dimach/venv/dev/lib/python3.11/site-packages (from matplotlib!=3.6.1,>=3.4->seaborn) (4.51.0)\n",
      "Requirement already satisfied: kiwisolver>=1.3.1 in /home/dimach/venv/dev/lib/python3.11/site-packages (from matplotlib!=3.6.1,>=3.4->seaborn) (1.4.5)\n",
      "Requirement already satisfied: packaging>=20.0 in /home/dimach/venv/dev/lib/python3.11/site-packages (from matplotlib!=3.6.1,>=3.4->seaborn) (23.2)\n",
      "Requirement already satisfied: pillow>=8 in /home/dimach/venv/dev/lib/python3.11/site-packages (from matplotlib!=3.6.1,>=3.4->seaborn) (10.3.0)\n",
      "Requirement already satisfied: pyparsing>=2.3.1 in /home/dimach/venv/dev/lib/python3.11/site-packages (from matplotlib!=3.6.1,>=3.4->seaborn) (3.1.2)\n",
      "Requirement already satisfied: six>=1.5 in /home/dimach/venv/dev/lib/python3.11/site-packages (from python-dateutil>=2.8.2->pandas) (1.16.0)\n",
      "Requirement already satisfied: parso<0.9.0,>=0.8.3 in /home/dimach/venv/dev/lib/python3.11/site-packages (from jedi>=0.16->ipython>=6.1.0->ipywidgets) (0.8.4)\n",
      "Requirement already satisfied: ptyprocess>=0.5 in /home/dimach/venv/dev/lib/python3.11/site-packages (from pexpect>4.3->ipython>=6.1.0->ipywidgets) (0.7.0)\n",
      "Requirement already satisfied: wcwidth in /home/dimach/venv/dev/lib/python3.11/site-packages (from prompt-toolkit<3.1.0,>=3.0.41->ipython>=6.1.0->ipywidgets) (0.2.13)\n",
      "Requirement already satisfied: executing>=1.2.0 in /home/dimach/venv/dev/lib/python3.11/site-packages (from stack-data->ipython>=6.1.0->ipywidgets) (2.0.1)\n",
      "Requirement already satisfied: asttokens>=2.1.0 in /home/dimach/venv/dev/lib/python3.11/site-packages (from stack-data->ipython>=6.1.0->ipywidgets) (2.4.1)\n",
      "Requirement already satisfied: pure-eval in /home/dimach/venv/dev/lib/python3.11/site-packages (from stack-data->ipython>=6.1.0->ipywidgets) (0.2.2)\n"
     ]
    }
   ],
   "source": [
    "!pip install pandas numpy seaborn ipywidgets\n",
    "import pandas as pd\n",
    "import numpy as np\n",
    "import matplotlib.pyplot as plt\n",
    "import seaborn as sns\n",
    "import re\n",
    "import glob\n",
    "import os\n",
    "import ipywidgets as widgets\n",
    "from IPython.display import display, clear_output\n",
    "\n",
    "# Set plotting style\n",
    "sns.set_style('whitegrid')\n",
    "plt.rcParams['figure.figsize'] = (14, 8)\n",
    "plt.rcParams['font.size'] = 12\n"
   ]
  },
  {
   "cell_type": "markdown",
   "id": "1c1d3199",
   "metadata": {},
   "source": [
    "## Loading and Processing the Data Files\n",
    "\n",
    "We'll load all the CSV files and organize them by smoothing parameter and path count."
   ]
  },
  {
   "cell_type": "code",
   "execution_count": 5,
   "id": "2ceed96b",
   "metadata": {},
   "outputs": [
    {
     "name": "stdout",
     "output_type": "stream",
     "text": [
      "Loaded 360 data files\n",
      "Smoothing parameters: [0.0, 0.1, 0.4, 0.8, 1.6, 2.4, 3.5]\n",
      "Path counts: [10000, 50000, 100000, 500000, 1000000, 10000000]\n",
      "Ladders : ['corr', 'corr-noisy', 'spot1', 'spot1-noisy', 'spot2', 'spot2-noisy', 'vol1', 'vol1-noisy', 'vol2', 'vol2-noisy']\n"
     ]
    }
   ],
   "source": [
    "from viewer_tools import *\n",
    "\n",
    "# Load all data files\n",
    "data_by_params = load_all_data()\n",
    "\n",
    "# Extract unique smoothing parameters and path counts\n",
    "smoothing_params = sorted(set(param[0] for param in data_by_params.keys()))\n",
    "path_counts = sorted(set(param[1] for param in data_by_params.keys()))\n",
    "ladders = sorted(set(param[2] for param in data_by_params.keys()))\n",
    "\n",
    "print(f\"Loaded {len(data_by_params)} data files\")\n",
    "print(f\"Smoothing parameters: {smoothing_params}\")\n",
    "print(f\"Path counts: {path_counts}\")\n",
    "print(f\"Ladders : {ladders}\")"
   ]
  },
  {
   "cell_type": "markdown",
   "id": "f7b096c2",
   "metadata": {},
   "source": [
    "## Establishing the Reference Case (10M Paths)\n",
    "\n",
    "We'll use the 10M path simulation as our reference \"ground truth\" for analyzing convergence."
   ]
  },
  {
   "cell_type": "code",
   "execution_count": 6,
   "id": "c54d3801",
   "metadata": {
    "lines_to_next_cell": 1
   },
   "outputs": [
    {
     "name": "stdout",
     "output_type": "stream",
     "text": [
      "Reference case for corr: Smoothing=0.8, Paths=10000000\n",
      "Reference case for corr-noisy: Smoothing=0.8, Paths=10000000\n",
      "Reference case for spot1: Smoothing=0.8, Paths=10000000\n",
      "Reference case for spot1-noisy: Smoothing=0.8, Paths=10000000\n",
      "Reference case for spot2: Smoothing=0.8, Paths=10000000\n",
      "Reference case for spot2-noisy: Smoothing=0.8, Paths=10000000\n",
      "Reference case for vol1: Smoothing=0.8, Paths=10000000\n",
      "Reference case for vol1-noisy: Smoothing=0.8, Paths=10000000\n",
      "Reference case for vol2: Smoothing=0.8, Paths=10000000\n",
      "Reference case for vol2-noisy: Smoothing=0.8, Paths=10000000\n"
     ]
    }
   ],
   "source": [
    "reference_key = {}\n",
    "reference_data = {}\n",
    "for ladder in ladders:\n",
    "    # Find the reference case (10M paths with 0.1 smoothing)\n",
    "    reference_key[ladder] = next((k for k in data_by_params.keys() if k[1] == 10000000 and k[2] == ladder), None)\n",
    "    \n",
    "    if reference_key[ladder]:\n",
    "        reference_data[ladder] = data_by_params[reference_key[ladder]]\n",
    "        print(f\"Reference case for {ladder}: Smoothing={reference_key[ladder][0]}, Paths={reference_key[ladder][1]}\")\n",
    "    else:\n",
    "        print(f\"Reference case with 10M paths for ladder {ladder} not found. Using the highest path count as reference.\")\n",
    "        max_paths = max(k[1] for k in data_by_params.keys() if k[2] == ladder)\n",
    "        reference_key[ladder] = next((k for k in data_by_params.keys() if k[1] == max_paths and k[2] == ladder), None)\n",
    "        reference_data[ladder] = data_by_params[reference_key[ladder]]\n",
    "        print(f\"Using reference: Smoothing={reference_key[ladder][0]}, Paths={reference_key[ladder][1]}\")"
   ]
  },
  {
   "cell_type": "markdown",
   "id": "b3a7b772",
   "metadata": {},
   "source": [
    "## Interactive Data Explorer\n",
    "\n",
    "Let's create interactive widgets to explore the data across different dimensions."
   ]
  },
  {
   "cell_type": "code",
   "execution_count": 7,
   "id": "2be2b03e",
   "metadata": {
    "lines_to_next_cell": 1
   },
   "outputs": [
    {
     "data": {
      "application/vnd.jupyter.widget-view+json": {
       "model_id": "02d62d138cbd4709bd4d62c005b4f465",
       "version_major": 2,
       "version_minor": 0
      },
      "text/plain": [
       "VBox(children=(HBox(children=(Dropdown(description='Ladder:', options=(('Ladder: corr', 'corr'), ('Ladder: cor…"
      ]
     },
     "metadata": {},
     "output_type": "display_data"
    },
    {
     "data": {
      "application/vnd.jupyter.widget-view+json": {
       "model_id": "c525e69e2a1a446997510a18d0fc76a0",
       "version_major": 2,
       "version_minor": 0
      },
      "text/plain": [
       "Output()"
      ]
     },
     "metadata": {},
     "output_type": "display_data"
    }
   ],
   "source": [
    "\n",
    "# Create the interactive explorer\n",
    "create_interactive_explorer(ladders, smoothing_params, path_counts, reference_data, reference_key, data_by_params)"
   ]
  },
  {
   "cell_type": "markdown",
   "id": "f54183c7",
   "metadata": {},
   "source": [
    "## Convergence Analysis by Smoothing Parameter\n",
    "\n",
    "Let's compare how different smoothing parameters affect convergence."
   ]
  },
  {
   "cell_type": "code",
   "execution_count": null,
   "id": "9385bc1e",
   "metadata": {
    "lines_to_next_cell": 1
   },
   "outputs": [],
   "source": []
  },
  {
   "cell_type": "markdown",
   "id": "e71a5d96",
   "metadata": {},
   "source": [
    "## Computational Efficiency Analysis\n",
    "\n",
    "Let's analyze the computational efficiency of each method by comparing the accuracy achieved per unit of computation time."
   ]
  },
  {
   "cell_type": "code",
   "execution_count": null,
   "id": "8914e761",
   "metadata": {},
   "outputs": [],
   "source": []
  },
  {
   "cell_type": "markdown",
   "id": "f1c612d7",
   "metadata": {},
   "source": [
    "## Summary of Key Findings\n",
    "\n",
    "Based on the analysis, we can draw the following conclusions:\n",
    "\n",
    "1. **Convergence Rate**: \n",
    "   - The smoothed implementation converges faster to the reference solution than the base implementation\n",
    "   - The AADC implementation provides the most consistent results across different path counts\n",
    "\n",
    "2. **Computational Efficiency**:\n",
    "   - AADC provides the best accuracy per unit of computation time\n",
    "   - The smoothed implementation offers a good balance between implementation complexity and convergence speed\n",
    "\n",
    "3. **Effect of Smoothing Parameter**:\n",
    "   - A smaller smoothing parameter (e.g., 0.1) generally provides better accuracy than larger values\n",
    "   - The optimal smoothing parameter may depend on the specific sensitivity being calculated\n",
    "\n",
    "4. **Path Count Requirements**:\n",
    "   - For accurate correlation sensitivity, at least 100,000 paths are recommended for the base implementation\n",
    "   - The smoothed implementation can achieve similar accuracy with fewer paths\n",
    "   - AADC provides good accuracy even with relatively few paths\n",
    "\n",
    "Overall, these results demonstrate the benefits of both smoothing techniques and adjoint algorithmic differentiation for calculating sensitivities of complex structured products like the Phoenix Autocallable Note."
   ]
  }
 ],
 "metadata": {
  "jupytext": {
   "cell_metadata_filter": "-all",
   "main_language": "python",
   "notebook_metadata_filter": "-all"
  },
  "kernelspec": {
   "display_name": "Python 3 (ipykernel)",
   "language": "python",
   "name": "python3"
  },
  "language_info": {
   "codemirror_mode": {
    "name": "ipython",
    "version": 3
   },
   "file_extension": ".py",
   "mimetype": "text/x-python",
   "name": "python",
   "nbconvert_exporter": "python",
   "pygments_lexer": "ipython3",
   "version": "3.11.2"
  }
 },
 "nbformat": 4,
 "nbformat_minor": 5
}
